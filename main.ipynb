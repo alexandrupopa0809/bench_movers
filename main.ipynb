{
 "cells": [
  {
   "cell_type": "markdown",
   "metadata": {},
   "source": [
    "Pasul 1: determinarea H\n",
    "\n",
    "centers = lista cu centrele de rotatie (lista de tupluri)\n",
    "D = distanta dintre primul centru de rotatie si ultimul\n",
    "\n",
    "Config initiala - (x0, y0, fi0)\n",
    "Config finala - (x1, y1, fi1)\n",
    "\n",
    "Punem punctele (x0, y0) si (x1, y1) pe grafic\n",
    "Trasez doua drepte de lungime 2:\n",
    "- prima perpendiculara pe directia lui fi0 cu mijlocul in (x0,y0)\n",
    "- a doua perpendiculara pe directia lui fi1 cu mijlocul in (x1, y1)\n",
    "\n",
    "Capetele primei drepte vor fi centrele de rotatie initiale si captele dreptei 2 vor fi centrele de rotatie finale.\n",
    "Trasez distantele din centrele de rotatie initiale pana in centrele de rotatie finale.\n",
    "D = va fi minimul dintre distante.\n",
    "N (nr de centre de rotatie va fi) = ceil(D)"
   ]
  },
  {
   "cell_type": "code",
   "execution_count": 21,
   "metadata": {},
   "outputs": [],
   "source": [
    "from math import sin, cos, pi, radians, sqrt, ceil, floor, asin, degrees\n",
    "from matplotlib import pyplot as plt"
   ]
  },
  {
   "cell_type": "markdown",
   "metadata": {},
   "source": [
    "Initial, pornim cu configuratia de start (pozitia si directia) si cu configuratia finala (pozitia si directia)."
   ]
  },
  {
   "cell_type": "markdown",
   "metadata": {},
   "source": [
    "Functia coordEdges ne va da pozitiile centrelor de rotatie (left si right, initiale si finale) in functie de configuratii. "
   ]
  },
  {
   "cell_type": "code",
   "execution_count": 22,
   "metadata": {},
   "outputs": [],
   "source": [
    "def coordEdges(conf, L):\n",
    "    x, y, fi = conf\n",
    "    r1 = []\n",
    "    r2 = []\n",
    "\n",
    "    r1.append(x + L/2 * sin(fi))\n",
    "    r1.append(y - L/2 * cos(fi))\n",
    "    r2.append(x - L/2 * sin(fi))\n",
    "    r2.append(y + L/2 * cos(fi))\n",
    "    return r1, r2"
   ]
  },
  {
   "cell_type": "markdown",
   "metadata": {},
   "source": [
    "Cu pozitiile centrelor de rotatie, vom calcula distanta D, care este distanta minima dintre centrele de rotatie initiale si finale"
   ]
  },
  {
   "cell_type": "code",
   "execution_count": 23,
   "metadata": {},
   "outputs": [],
   "source": [
    "def getD(first, second):\n",
    "    x1 = first[0][0]\n",
    "    y1 = first[0][1]\n",
    "    x2 = second[0][0]\n",
    "    y2 = second[0][1]\n",
    "    dist1 = sqrt((x2 - x1)*2 + (y2 - y1)*2)\n",
    "    x1 = first[1][0]\n",
    "    y1 = first[1][1]\n",
    "    x2 = second[1][0]\n",
    "    y2 = second[1][1]\n",
    "    dist2 = sqrt((x2 - x1)*2 + (y2 - y1)*2)\n",
    "\n",
    "    if dist1 > dist2:\n",
    "        return dist2, 1\n",
    "    else:\n",
    "        return dist1, 0"
   ]
  },
  {
   "cell_type": "markdown",
   "metadata": {},
   "source": [
    "Stiind D, vom putea calcula cate centre de rotatie exista in total pe traseul bancii"
   ]
  },
  {
   "cell_type": "markdown",
   "metadata": {},
   "source": [
    "In continuare, vom calcula H."
   ]
  },
  {
   "cell_type": "code",
   "execution_count": 24,
   "metadata": {},
   "outputs": [],
   "source": [
    "def get_H(n, d):\n",
    "    if n % 2 == 0:\n",
    "        helper = (d * 2) / (4 * ((d - 1) * 2))\n",
    "    else:\n",
    "        helper = (d ** 2 - 4) / (4 * d * (d - 2))\n",
    "    return sqrt(1 - helper)"
   ]
  },
  {
   "cell_type": "markdown",
   "metadata": {},
   "source": [
    "Stiind H, vom putea calcula unghiul de rotatie al bancii (beta), care este arcsinus de H."
   ]
  },
  {
   "cell_type": "markdown",
   "metadata": {},
   "source": [
    "Prin unghiul de rotatie, vom putea calcula in continuare urmatoarea pozitie a noului centru de rotatie."
   ]
  },
  {
   "cell_type": "markdown",
   "metadata": {},
   "source": [
    "Functia getNextPosition ne va da coordonatele urmatorului centru de rotatie."
   ]
  },
  {
   "cell_type": "code",
   "execution_count": 25,
   "metadata": {},
   "outputs": [],
   "source": [
    "def getNextPosition(rotateCenter, orientation, h):\n",
    "    beta1 = degrees(asin(h))\n",
    "\n",
    "    angle = 180 - degrees(orientation) - beta1\n",
    "    nextX = rotateCenter[0] + cos(radians(angle)) * L\n",
    "    nextY = rotateCenter[1] + sin(radians(angle)) * L\n",
    "    print('NextX:', nextX, 'NextY:', nextY)\n",
    "    return nextX, nextY"
   ]
  },
  {
   "cell_type": "markdown",
   "metadata": {},
   "source": [
    "In continuare, voi printa configuratiile initiale si finale (mijlocul bancii). Pe langa acestea, se vor afisa si pozitiile tuturor centrelor de rotatie pana in configuratia finala."
   ]
  },
  {
   "cell_type": "code",
   "execution_count": 38,
   "metadata": {},
   "outputs": [
    {
     "name": "stdout",
     "output_type": "stream",
     "text": [
      "InitialState: ([-2.2928932188134525, -3.7071067811865475], [-3.7071067811865475, -2.2928932188134525]) FinalState: ([0.0, -1.0], [0.0, 1.0])\n",
      "NextX: -2.108333488778827 NextY: -1.7156405610237384\n",
      "NextX: -1.9295635193660419 NextY: 0.27635374068401286\n",
      "NextX: -2.3114926868605465 NextY: 2.239547595354752\n"
     ]
    }
   ],
   "source": [
    "initialConf = [-3, -3, radians(45)]\n",
    "finalConf = [0, 0, radians(0)]\n",
    "L = 2\n",
    "\n",
    "initialState = coordEdges(initialConf, L)\n",
    "finalState = coordEdges(finalConf, L)\n",
    "print('InitialState:', initialState, 'FinalState:', finalState)\n",
    "\n",
    "centers_x_init = [initialState[0][0], initialState[1][0]]\n",
    "centers_y_init = [initialState[0][1], initialState[1][1]]\n",
    "\n",
    "centers_x_fin = [finalState[0][0], finalState[1][0]]\n",
    "centers_y_fin = [finalState[0][1], finalState[1][1]]\n",
    "\n",
    "D, index = getD(initialState, finalState)\n",
    "N = floor(D)\n",
    "\n",
    "next_x_list = []\n",
    "next_y_list = []\n",
    "\n",
    "for i in range(N):\n",
    "    D, index = getD(initialState, finalState)\n",
    "    H = get_H(N, D)\n",
    "    nextX, nextY = getNextPosition(initialState[index], initialConf[2], H)\n",
    "    next_x_list.append(nextX)\n",
    "    next_y_list.append(nextY)\n",
    "    if index == 0:\n",
    "        initialState[1][0] = nextX\n",
    "        initialState[1][1] = nextY\n",
    "    else:\n",
    "        initialState[0][0] = nextX\n",
    "        initialState[0][1] = nextY"
   ]
  },
  {
   "cell_type": "markdown",
   "metadata": {},
   "source": [
    "Urmeaza un grafic initial, in care sunt adaugate coordonatele din configuratia initiala, respectiv finala (CU ROSU)"
   ]
  },
  {
   "cell_type": "markdown",
   "metadata": {},
   "source": [
    "Cu x sunt pozitiile centrelor de rotatie initiale, respectiv finale."
   ]
  },
  {
   "cell_type": "code",
   "execution_count": 39,
   "metadata": {},
   "outputs": [
    {
     "data": {
      "image/png": "[encoded data removed]",
      "text/plain": [
       "<Figure size 504x252 with 1 Axes>"
      ]
     },
     "metadata": {
      "needs_background": "light"
     },
     "output_type": "display_data"
    }
   ],
   "source": [
    "plt.rcParams[\"figure.figsize\"] = [7.00, 3.50]\n",
    "plt.rcParams[\"figure.autolayout\"] = True\n",
    "\n",
    "x = [-3, 0]\n",
    "y = [-3, 0]\n",
    "\n",
    "plt.xlim(-5, 2)\n",
    "plt.ylim(-5, 2)\n",
    "plt.grid()\n",
    "plt.plot(x, y, marker=\"o\", markersize=10, markerfacecolor=\"red\")\n",
    "plt.plot(centers_x_init, centers_y_init, marker=\"x\", markersize=10, markerfacecolor=\"green\")\n",
    "plt.plot(centers_x_fin, centers_y_fin, marker=\"x\", markersize=10, markerfacecolor=\"green\")\n",
    "\n",
    "plt.show()"
   ]
  },
  {
   "cell_type": "markdown",
   "metadata": {},
   "source": [
    "Graficul de mai jos prezinta toate punctele centrelor de rotatie calculate de algoritmul nostru."
   ]
  },
  {
   "cell_type": "code",
   "execution_count": 41,
   "metadata": {},
   "outputs": [
    {
     "data": {
      "image/png": "[encoded data removed]",
      "text/plain": [
       "<Figure size 504x252 with 1 Axes>"
      ]
     },
     "metadata": {
      "needs_background": "light"
     },
     "output_type": "display_data"
    }
   ],
   "source": [
    "plt.rcParams[\"figure.figsize\"] = [7.00, 3.50]\n",
    "plt.rcParams[\"figure.autolayout\"] = True\n",
    "\n",
    "x = [-3, 0]\n",
    "y = [-3, 0]\n",
    "\n",
    "plt.xlim(-5, 4)\n",
    "plt.ylim(-5, 4)\n",
    "plt.grid()\n",
    "plt.plot(centers_x_init, centers_y_init, marker=\"x\", markersize=10, markerfacecolor=\"green\")\n",
    "plt.plot(centers_x_fin, centers_y_fin, marker=\"x\", markersize=10, markerfacecolor=\"green\")\n",
    "plt.plot(next_x_list, next_y_list, marker=\"x\", markersize=10, markerfacecolor=\"green\")\n",
    "\n",
    "\n",
    "plt.show()"
   ]
  },
  {
   "cell_type": "markdown",
   "metadata": {},
   "source": [
    "Concluzie: Algoritmul nu functioneaza complet bine, din cauza unghiului de rotatie beta. Nu am reusit sa potrivim unghiul in cadranul potrivit (asin(H), pi - asin(H), pi + asin(H), 2pi - asin(H))\n",
    "\n"
   ]
  }
 ],
 "metadata": {
  "interpreter": {
   "hash": "631af202ec7c40e141c49d63cac6c8cb664469fed6e4d5ddc6436b49edc60500"
  },
  "kernelspec": {
   "display_name": "Python 3.8.8 ('base')",
   "language": "python",
   "name": "python3"
  },
  "language_info": {
   "codemirror_mode": {
    "name": "ipython",
    "version": 3
   },
   "file_extension": ".py",
   "mimetype": "text/x-python",
   "name": "python",
   "nbconvert_exporter": "python",
   "pygments_lexer": "ipython3",
   "version": "3.8.8"
  },
  "orig_nbformat": 4
 },
 "nbformat": 4,
 "nbformat_minor": 2
}
