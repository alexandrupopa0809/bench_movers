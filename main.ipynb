{
 "cells": [
  {
   "cell_type": "code",
   "execution_count": 23,
   "metadata": {},
   "outputs": [],
   "source": [
    "import math\n",
    "import numpy as np\n",
    "from matplotlib import pyplot as plt"
   ]
  },
  {
   "cell_type": "markdown",
   "metadata": {},
   "source": [
    "Pasul 1: determinarea H\n",
    "\n",
    "centers = lista cu centrele de rotatie (lista de tupluri)\n",
    "D = distanta dintre primul centru de rotatie si ultimul\n",
    "\n",
    "Config initiala - (x0, y0, fi0)\n",
    "Config finala - (x1, y1, fi1)\n",
    "\n",
    "Punem punctele (x0, y0) si (x1, y1) pe grafic\n",
    "Trasez doua drepte de lungime 2:\n",
    "- prima perpendiculara pe directia lui fi0 cu mijlocul in (x0,y0)\n",
    "- a doua perpendiculara pe directia lui fi1 cu mijlocul in (x1, y1)\n",
    "\n",
    "Capetele primei drepte vor fi centrele de rotatie initiale si captele dreptei 2 vor fi centrele de rotatie finale.\n",
    "Trasez distantele din centrele de rotatie initiale pana in centrele de rotatie finale.\n",
    "D = va fi minimul dintre distante.\n",
    "N (nr de centre de rotatie va fi) = ceil(D)"
   ]
  },
  {
   "cell_type": "code",
   "execution_count": 13,
   "metadata": {},
   "outputs": [],
   "source": [
    "pos_initial = (-3, -3)\n",
    "pos_final = (0, 0)\n",
    "\n",
    "fi_0 = 45\n",
    "fi_1 = 0"
   ]
  },
  {
   "cell_type": "code",
   "execution_count": null,
   "metadata": {},
   "outputs": [],
   "source": [
    "def get_center_pos():\n",
    "    # mijlocul dreptei il stim din configuratia initiala\n",
    "    # stim distanta de la mijloc pana la capetele segmentului = 1\n",
    "    # !! trebuie sa aflam centrele = capetele segmentului\n",
    "    # deci - ai un segment, ii stii mijlocul si lungimea si trebuie sa aflam capetele\n",
    "\n",
    "    pass"
   ]
  },
  {
   "cell_type": "code",
   "execution_count": 3,
   "metadata": {},
   "outputs": [],
   "source": [
    "def get_H(n, D):\n",
    "    if n % 2 == 0:\n",
    "        helper = (D ** 2) / (4 * ((n - 1) ** 2))\n",
    "    else:\n",
    "        helper = (D ** 2 - 4) / (4 * n * (n - 2))\n",
    "    return math.sqrt(1 - helper)"
   ]
  },
  {
   "cell_type": "code",
   "execution_count": 26,
   "metadata": {},
   "outputs": [
    {
     "data": {
      "image/png": "[encoded data removed]",
      "text/plain": [
       "<Figure size 504x252 with 1 Axes>"
      ]
     },
     "metadata": {
      "needs_background": "light"
     },
     "output_type": "display_data"
    }
   ],
   "source": [
    "def initial_plot(pos_initial, pos_final):\n",
    "    plt.rcParams[\"figure.figsize\"] = [7.00, 3.50]\n",
    "    plt.rcParams[\"figure.autolayout\"] = True\n",
    "    plt.xlim(-6, 1)\n",
    "    plt.ylim(-6, 1)\n",
    "    plt.grid()\n",
    "    plt.plot(pos_initial[0], pos_initial[1], marker=\"o\", markersize=10, markerfacecolor=\"red\")\n",
    "    plt.plot(pos_final[0], pos_final[1], marker=\"o\", markersize=10, markerfacecolor=\"red\")\n",
    "    plt.show()\n",
    "\n",
    "initial_plot(pos_initial, pos_final)"
   ]
  }
 ],
 "metadata": {
  "interpreter": {
   "hash": "631af202ec7c40e141c49d63cac6c8cb664469fed6e4d5ddc6436b49edc60500"
  },
  "kernelspec": {
   "display_name": "Python 3.8.8 ('base')",
   "language": "python",
   "name": "python3"
  },
  "language_info": {
   "codemirror_mode": {
    "name": "ipython",
    "version": 3
   },
   "file_extension": ".py",
   "mimetype": "text/x-python",
   "name": "python",
   "nbconvert_exporter": "python",
   "pygments_lexer": "ipython3",
   "version": "3.8.8"
  },
  "orig_nbformat": 4
 },
 "nbformat": 4,
 "nbformat_minor": 2
}
